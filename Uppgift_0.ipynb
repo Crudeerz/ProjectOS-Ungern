{
 "cells": [
  {
   "cell_type": "code",
   "execution_count": 78,
   "metadata": {},
   "outputs": [],
   "source": [
    "import pandas as pd\n",
    "df_regions = pd.read_csv(\"Data/noc_regions.csv\")\n",
    "df_events = pd.read_csv(\"Data/athlete_events.csv\")"
   ]
  },
  {
   "cell_type": "code",
   "execution_count": 79,
   "metadata": {},
   "outputs": [
    {
     "data": {
      "text/html": [
       "<div>\n",
       "<style scoped>\n",
       "    .dataframe tbody tr th:only-of-type {\n",
       "        vertical-align: middle;\n",
       "    }\n",
       "\n",
       "    .dataframe tbody tr th {\n",
       "        vertical-align: top;\n",
       "    }\n",
       "\n",
       "    .dataframe thead th {\n",
       "        text-align: right;\n",
       "    }\n",
       "</style>\n",
       "<table border=\"1\" class=\"dataframe\">\n",
       "  <thead>\n",
       "    <tr style=\"text-align: right;\">\n",
       "      <th></th>\n",
       "      <th>NOC</th>\n",
       "      <th>region</th>\n",
       "      <th>notes</th>\n",
       "    </tr>\n",
       "  </thead>\n",
       "  <tbody>\n",
       "    <tr>\n",
       "      <th>0</th>\n",
       "      <td>AFG</td>\n",
       "      <td>Afghanistan</td>\n",
       "      <td>NaN</td>\n",
       "    </tr>\n",
       "    <tr>\n",
       "      <th>1</th>\n",
       "      <td>AHO</td>\n",
       "      <td>Curacao</td>\n",
       "      <td>Netherlands Antilles</td>\n",
       "    </tr>\n",
       "    <tr>\n",
       "      <th>2</th>\n",
       "      <td>ALB</td>\n",
       "      <td>Albania</td>\n",
       "      <td>NaN</td>\n",
       "    </tr>\n",
       "    <tr>\n",
       "      <th>3</th>\n",
       "      <td>ALG</td>\n",
       "      <td>Algeria</td>\n",
       "      <td>NaN</td>\n",
       "    </tr>\n",
       "    <tr>\n",
       "      <th>4</th>\n",
       "      <td>AND</td>\n",
       "      <td>Andorra</td>\n",
       "      <td>NaN</td>\n",
       "    </tr>\n",
       "  </tbody>\n",
       "</table>\n",
       "</div>"
      ],
      "text/plain": [
       "   NOC       region                 notes\n",
       "0  AFG  Afghanistan                   NaN\n",
       "1  AHO      Curacao  Netherlands Antilles\n",
       "2  ALB      Albania                   NaN\n",
       "3  ALG      Algeria                   NaN\n",
       "4  AND      Andorra                   NaN"
      ]
     },
     "execution_count": 79,
     "metadata": {},
     "output_type": "execute_result"
    }
   ],
   "source": [
    "df_regions.head()"
   ]
  },
  {
   "cell_type": "code",
   "execution_count": 80,
   "metadata": {},
   "outputs": [
    {
     "data": {
      "text/html": [
       "<div>\n",
       "<style scoped>\n",
       "    .dataframe tbody tr th:only-of-type {\n",
       "        vertical-align: middle;\n",
       "    }\n",
       "\n",
       "    .dataframe tbody tr th {\n",
       "        vertical-align: top;\n",
       "    }\n",
       "\n",
       "    .dataframe thead th {\n",
       "        text-align: right;\n",
       "    }\n",
       "</style>\n",
       "<table border=\"1\" class=\"dataframe\">\n",
       "  <thead>\n",
       "    <tr style=\"text-align: right;\">\n",
       "      <th></th>\n",
       "      <th>ID</th>\n",
       "      <th>Name</th>\n",
       "      <th>Sex</th>\n",
       "      <th>Age</th>\n",
       "      <th>Height</th>\n",
       "      <th>Weight</th>\n",
       "      <th>Team</th>\n",
       "      <th>NOC</th>\n",
       "      <th>Games</th>\n",
       "      <th>Year</th>\n",
       "      <th>Season</th>\n",
       "      <th>City</th>\n",
       "      <th>Sport</th>\n",
       "      <th>Event</th>\n",
       "      <th>Medal</th>\n",
       "    </tr>\n",
       "  </thead>\n",
       "  <tbody>\n",
       "    <tr>\n",
       "      <th>0</th>\n",
       "      <td>1</td>\n",
       "      <td>A Dijiang</td>\n",
       "      <td>M</td>\n",
       "      <td>24.0</td>\n",
       "      <td>180.0</td>\n",
       "      <td>80.0</td>\n",
       "      <td>China</td>\n",
       "      <td>CHN</td>\n",
       "      <td>1992 Summer</td>\n",
       "      <td>1992</td>\n",
       "      <td>Summer</td>\n",
       "      <td>Barcelona</td>\n",
       "      <td>Basketball</td>\n",
       "      <td>Basketball Men's Basketball</td>\n",
       "      <td>NaN</td>\n",
       "    </tr>\n",
       "    <tr>\n",
       "      <th>1</th>\n",
       "      <td>2</td>\n",
       "      <td>A Lamusi</td>\n",
       "      <td>M</td>\n",
       "      <td>23.0</td>\n",
       "      <td>170.0</td>\n",
       "      <td>60.0</td>\n",
       "      <td>China</td>\n",
       "      <td>CHN</td>\n",
       "      <td>2012 Summer</td>\n",
       "      <td>2012</td>\n",
       "      <td>Summer</td>\n",
       "      <td>London</td>\n",
       "      <td>Judo</td>\n",
       "      <td>Judo Men's Extra-Lightweight</td>\n",
       "      <td>NaN</td>\n",
       "    </tr>\n",
       "    <tr>\n",
       "      <th>2</th>\n",
       "      <td>3</td>\n",
       "      <td>Gunnar Nielsen Aaby</td>\n",
       "      <td>M</td>\n",
       "      <td>24.0</td>\n",
       "      <td>NaN</td>\n",
       "      <td>NaN</td>\n",
       "      <td>Denmark</td>\n",
       "      <td>DEN</td>\n",
       "      <td>1920 Summer</td>\n",
       "      <td>1920</td>\n",
       "      <td>Summer</td>\n",
       "      <td>Antwerpen</td>\n",
       "      <td>Football</td>\n",
       "      <td>Football Men's Football</td>\n",
       "      <td>NaN</td>\n",
       "    </tr>\n",
       "    <tr>\n",
       "      <th>3</th>\n",
       "      <td>4</td>\n",
       "      <td>Edgar Lindenau Aabye</td>\n",
       "      <td>M</td>\n",
       "      <td>34.0</td>\n",
       "      <td>NaN</td>\n",
       "      <td>NaN</td>\n",
       "      <td>Denmark/Sweden</td>\n",
       "      <td>DEN</td>\n",
       "      <td>1900 Summer</td>\n",
       "      <td>1900</td>\n",
       "      <td>Summer</td>\n",
       "      <td>Paris</td>\n",
       "      <td>Tug-Of-War</td>\n",
       "      <td>Tug-Of-War Men's Tug-Of-War</td>\n",
       "      <td>Gold</td>\n",
       "    </tr>\n",
       "    <tr>\n",
       "      <th>4</th>\n",
       "      <td>5</td>\n",
       "      <td>Christine Jacoba Aaftink</td>\n",
       "      <td>F</td>\n",
       "      <td>21.0</td>\n",
       "      <td>185.0</td>\n",
       "      <td>82.0</td>\n",
       "      <td>Netherlands</td>\n",
       "      <td>NED</td>\n",
       "      <td>1988 Winter</td>\n",
       "      <td>1988</td>\n",
       "      <td>Winter</td>\n",
       "      <td>Calgary</td>\n",
       "      <td>Speed Skating</td>\n",
       "      <td>Speed Skating Women's 500 metres</td>\n",
       "      <td>NaN</td>\n",
       "    </tr>\n",
       "  </tbody>\n",
       "</table>\n",
       "</div>"
      ],
      "text/plain": [
       "   ID                      Name Sex   Age  Height  Weight            Team  \\\n",
       "0   1                 A Dijiang   M  24.0   180.0    80.0           China   \n",
       "1   2                  A Lamusi   M  23.0   170.0    60.0           China   \n",
       "2   3       Gunnar Nielsen Aaby   M  24.0     NaN     NaN         Denmark   \n",
       "3   4      Edgar Lindenau Aabye   M  34.0     NaN     NaN  Denmark/Sweden   \n",
       "4   5  Christine Jacoba Aaftink   F  21.0   185.0    82.0     Netherlands   \n",
       "\n",
       "   NOC        Games  Year  Season       City          Sport  \\\n",
       "0  CHN  1992 Summer  1992  Summer  Barcelona     Basketball   \n",
       "1  CHN  2012 Summer  2012  Summer     London           Judo   \n",
       "2  DEN  1920 Summer  1920  Summer  Antwerpen       Football   \n",
       "3  DEN  1900 Summer  1900  Summer      Paris     Tug-Of-War   \n",
       "4  NED  1988 Winter  1988  Winter    Calgary  Speed Skating   \n",
       "\n",
       "                              Event Medal  \n",
       "0       Basketball Men's Basketball   NaN  \n",
       "1      Judo Men's Extra-Lightweight   NaN  \n",
       "2           Football Men's Football   NaN  \n",
       "3       Tug-Of-War Men's Tug-Of-War  Gold  \n",
       "4  Speed Skating Women's 500 metres   NaN  "
      ]
     },
     "execution_count": 80,
     "metadata": {},
     "output_type": "execute_result"
    }
   ],
   "source": [
    "df_events.head()"
   ]
  },
  {
   "cell_type": "markdown",
   "metadata": {},
   "source": [
    "## A) \n",
    "Hur många länder som är med i datan?"
   ]
  },
  {
   "cell_type": "code",
   "execution_count": 81,
   "metadata": {},
   "outputs": [
    {
     "name": "stdout",
     "output_type": "stream",
     "text": [
      "Det finns 230 olika länder i datan.\n"
     ]
    }
   ],
   "source": [
    "number_od_countries = df_regions[\"NOC\"].nunique()\n",
    "print(f\"Det finns {number_od_countries} olika länder i datan.\")"
   ]
  },
  {
   "cell_type": "markdown",
   "metadata": {},
   "source": [
    "## B)\n",
    "Vilka länder är med? (förkortningarna räcker)"
   ]
  },
  {
   "cell_type": "code",
   "execution_count": 82,
   "metadata": {},
   "outputs": [
    {
     "data": {
      "text/plain": [
       "0      AFG\n",
       "1      AHO\n",
       "2      ALB\n",
       "3      ALG\n",
       "4      AND\n",
       "      ... \n",
       "225    YEM\n",
       "226    YMD\n",
       "227    YUG\n",
       "228    ZAM\n",
       "229    ZIM\n",
       "Name: NOC, Length: 230, dtype: object"
      ]
     },
     "execution_count": 82,
     "metadata": {},
     "output_type": "execute_result"
    }
   ],
   "source": [
    "countries = df_regions[\"NOC\"]\n",
    "countries"
   ]
  },
  {
   "cell_type": "markdown",
   "metadata": {},
   "source": [
    "## C) \n",
    "Vilka sporter är med?"
   ]
  },
  {
   "cell_type": "code",
   "execution_count": 83,
   "metadata": {},
   "outputs": [
    {
     "data": {
      "text/plain": [
       "0            Basketball\n",
       "1                  Judo\n",
       "2              Football\n",
       "3            Tug-Of-War\n",
       "4         Speed Skating\n",
       "              ...      \n",
       "271111             Luge\n",
       "271112      Ski Jumping\n",
       "271113      Ski Jumping\n",
       "271114        Bobsleigh\n",
       "271115        Bobsleigh\n",
       "Name: Sport, Length: 271116, dtype: object"
      ]
     },
     "execution_count": 83,
     "metadata": {},
     "output_type": "execute_result"
    }
   ],
   "source": [
    "df_events[\"Sport\"]"
   ]
  },
  {
   "cell_type": "markdown",
   "metadata": {},
   "source": [
    "## D)\n",
    "Vilka medaljtyper finns det?"
   ]
  },
  {
   "cell_type": "code",
   "execution_count": 84,
   "metadata": {},
   "outputs": [
    {
     "name": "stdout",
     "output_type": "stream",
     "text": [
      "Medaljtyperna är: Gold, Bronze och Silver.\n"
     ]
    }
   ],
   "source": [
    "unique_medals = df_events['Medal'].dropna().unique()\n",
    "medal_string = ', '.join(unique_medals[:-1]) + f\" och {unique_medals[-1]}\"\n",
    "print(f\"Medaljtyperna är: {medal_string}.\")"
   ]
  },
  {
   "cell_type": "markdown",
   "metadata": {},
   "source": [
    "## E)\n",
    "Ta reda på statistik för åldern: medelvärde, median, min, max, standardavvikelse"
   ]
  },
  {
   "cell_type": "code",
   "execution_count": 85,
   "metadata": {},
   "outputs": [
    {
     "data": {
      "text/plain": [
       "Medelvärde           25.556898\n",
       "Median               24.000000\n",
       "Minimum              10.000000\n",
       "Maximum              97.000000\n",
       "Standardavvikelse     6.393561\n",
       "Name: Age, dtype: float64"
      ]
     },
     "execution_count": 85,
     "metadata": {},
     "output_type": "execute_result"
    }
   ],
   "source": [
    "df_events['Age'].agg(\n",
    "    Medelvärde='mean', \n",
    "    Median='median', \n",
    "    Minimum='min', \n",
    "    Maximum='max', \n",
    "    Standardavvikelse='std'\n",
    ")"
   ]
  },
  {
   "cell_type": "markdown",
   "metadata": {},
   "source": [
    "## F)\n",
    "Utforska datan vidare med egna frågor\n",
    "- Vilka åldersintervaller tar flest medaljer?\n",
    "- Varierar medelåldern mellan mästerskapen? \n",
    "- Könsfördelning mellan mästerskapen?"
   ]
  },
  {
   "cell_type": "code",
   "execution_count": 86,
   "metadata": {},
   "outputs": [],
   "source": [
    "df_events['Medal'].fillna('None', inplace=True)"
   ]
  },
  {
   "cell_type": "code",
   "execution_count": 87,
   "metadata": {},
   "outputs": [
    {
     "name": "stdout",
     "output_type": "stream",
     "text": [
      "Andel medaljvinnare per åldersgrupp:\n",
      "Age_interval\n",
      "a. < 18       0.094260\n",
      "b. 18 - 24    0.141284\n",
      "c. 25 - 29    0.164916\n",
      "d. 30 - 39    0.160950\n",
      "e. 40 +       0.137807\n",
      "Name: Medal_grp, dtype: float64\n"
     ]
    }
   ],
   "source": [
    "def age_interval(age):\n",
    "    if age < 18:\n",
    "        return 'a. < 18'\n",
    "    elif age >= 18 and age < 25:\n",
    "        return 'b. 18 - 24'\n",
    "    elif age >= 25 and age < 30:\n",
    "        return 'c. 25 - 29'\n",
    "    elif age >= 30 and age < 40:\n",
    "        return 'd. 30 - 39'\n",
    "    elif age >= 40:\n",
    "        return 'e. 40 +'\n",
    "\n",
    "def medal_grp(medal):\n",
    "    return 0 if medal == 'None' else 1\n",
    "\n",
    "df_events['Age_interval'] = df_events['Age'].apply(age_interval)\n",
    "df_events['Medal_grp'] = df_events['Medal'].apply(medal_grp)\n",
    "medals_age = df_events.groupby('Age_interval')['Medal_grp'].mean()\n",
    "\n",
    "print('Andel medaljvinnare per åldersgrupp:')\n",
    "print(medals_age)"
   ]
  },
  {
   "cell_type": "markdown",
   "metadata": {},
   "source": [
    "Den åldersgrupp med högst andel medaljer per tävlande är 25-29 med 16,5%. Åldersgrupp 30-39 kommer strax därefter med 16,1%."
   ]
  },
  {
   "cell_type": "code",
   "execution_count": 100,
   "metadata": {},
   "outputs": [
    {
     "name": "stdout",
     "output_type": "stream",
     "text": [
      "Medelålder av tävlande per mästerskap:\n",
      "championship\n",
      "1956_Stockholm_Summer      34.445736\n",
      "1980_Moskva_Summer         23.704354\n",
      "1952_Oslo_Winter           25.446691\n",
      "1908_London_Summer         26.970228\n",
      "1968_Mexico City_Summer    24.255154\n",
      "2010_Vancouver_Winter      26.124262\n",
      "1992_Barcelona_Summer      24.396165\n",
      "1976_Montreal_Summer       23.863837\n",
      "2008_Beijing_Summer        25.734118\n",
      "1948_London_Summer         29.304796\n",
      "Name: Age, dtype: float64\n",
      "\n",
      "Standradavvikelsen för medelåldern: 2.28\n"
     ]
    }
   ],
   "source": [
    "df_events['championship'] = df_events['Year'].apply(str) + '_' + df_events['City'] + '_' + df_events['Season']\n",
    "\n",
    "championship_age = df_events.groupby('championship')['Age'].mean()\n",
    "\n",
    "print('Medelålder av tävlande per mästerskap:')\n",
    "print(championship_age.sample(10))\n",
    "print(f'\\nStandradavvikelsen för medelåldern: {championship_age.std():.2f}')"
   ]
  },
  {
   "cell_type": "markdown",
   "metadata": {},
   "source": [
    "Ovan syns ett slumpat urval av mästerskap och deras medelålder. Medelåldern för alla mästerskap varierar med en standardavvikelse på 2,3."
   ]
  },
  {
   "cell_type": "code",
   "execution_count": 89,
   "metadata": {},
   "outputs": [
    {
     "name": "stdout",
     "output_type": "stream",
     "text": [
      "Antal tävlande män och kvinnor per mästerskap:\n",
      "                                    Sex_M  Sex_F\n",
      "championship                                    \n",
      "1896_Athina_Summer                    380      0\n",
      "1900_Paris_Summer                    1903     33\n",
      "1904_St. Louis_Summer                1285     16\n",
      "1906_Athina_Summer                   1722     11\n",
      "1908_London_Summer                   3054     47\n",
      "1912_Stockholm_Summer                3953     87\n",
      "1920_Antwerpen_Summer                4158    134\n",
      "1924_Chamonix_Winter                  443     17\n",
      "1924_Paris_Summer                    4989    244\n",
      "1928_Amsterdam_Summer                4588    404\n",
      "1928_Sankt Moritz_Winter              549     33\n",
      "1932_Lake Placid_Winter               330     22\n",
      "1932_Los Angeles_Summer              2622    347\n",
      "1936_Berlin_Summer                   6038    468\n",
      "1936_Garmisch-Partenkirchen_Winter    814     81\n",
      "1948_London_Summer                   5777    628\n",
      "1948_Sankt Moritz_Winter              942    133\n",
      "1952_Helsinki_Summer                 6773   1497\n",
      "1952_Oslo_Winter                      903    185\n",
      "1956_Cortina d'Ampezzo_Winter        1061    246\n",
      "1956_Melbourne_Summer                3959    870\n",
      "1956_Stockholm_Summer                 275     23\n",
      "1960_Roma_Summer                     6684   1435\n",
      "1960_Squaw Valley_Winter              821    295\n",
      "1964_Innsbruck_Winter                1374    404\n",
      "1964_Tokyo_Summer                    6354   1348\n",
      "1968_Grenoble_Winter                 1475    416\n",
      "1968_Mexico City_Summer              6811   1777\n",
      "1972_Munich_Summer                   8111   2193\n",
      "1972_Sapporo_Winter                  1240    415\n",
      "1976_Innsbruck_Winter                1427    434\n",
      "1976_Montreal_Summer                 6469   2172\n",
      "1980_Lake Placid_Winter              1316    430\n",
      "1980_Moskva_Summer                   5435   1756\n",
      "1984_Los Angeles_Summer              7007   2447\n",
      "1984_Sarajevo_Winter                 1598    536\n",
      "1988_Calgary_Winter                  1959    680\n",
      "1988_Seoul_Summer                    8494   3543\n",
      "1992_Albertville_Winter              2382   1054\n",
      "1992_Barcelona_Summer                8853   4124\n",
      "1994_Lillehammer_Winter              2055   1105\n",
      "1996_Atlanta_Summer                  8772   5008\n",
      "1998_Nagano_Winter                   2221   1384\n",
      "2000_Sydney_Summer                   8390   5431\n",
      "2002_Salt Lake City_Winter           2527   1582\n",
      "2004_Athina_Summer                   7897   5546\n",
      "2006_Torino_Winter                   2625   1757\n",
      "2008_Beijing_Summer                  7786   5816\n",
      "2010_Vancouver_Winter                2555   1847\n",
      "2012_London_Summer                   7105   5815\n",
      "2014_Sochi_Winter                    2868   2023\n",
      "2016_Rio de Janeiro_Summer           7465   6223\n"
     ]
    }
   ],
   "source": [
    "df_events = pd.get_dummies(df_events, columns=['Sex'])\n",
    "championship_sex = df_events.groupby('championship')[['Sex_M', 'Sex_F']].sum()\n",
    "\n",
    "print('Antal tävlande män och kvinnor per mästerskap:')\n",
    "print(championship_sex)"
   ]
  },
  {
   "cell_type": "markdown",
   "metadata": {},
   "source": [
    "Fördelningen av män och kvinnor är mycket mer jämn för de senare mästerskapen än de i början. I början var andelen kvinnor några enstaka procent av alla tävlande."
   ]
  },
  {
   "cell_type": "markdown",
   "metadata": {},
   "source": [
    "## G)\n",
    "Diagram över könsfördelningen"
   ]
  },
  {
   "cell_type": "code",
   "execution_count": null,
   "metadata": {},
   "outputs": [],
   "source": []
  },
  {
   "cell_type": "markdown",
   "metadata": {},
   "source": [
    "## H)\n",
    "Diagram över topp 10 länder som tagit flest medaljer"
   ]
  },
  {
   "cell_type": "code",
   "execution_count": null,
   "metadata": {},
   "outputs": [],
   "source": []
  },
  {
   "cell_type": "markdown",
   "metadata": {},
   "source": [
    "## I) \n",
    "Plotta gärna fler saker som är intressant. *(förslagsvis från F)*"
   ]
  },
  {
   "cell_type": "code",
   "execution_count": null,
   "metadata": {},
   "outputs": [],
   "source": []
  }
 ],
 "metadata": {
  "kernelspec": {
   "display_name": "ProjectOS-Ungern-BqDQH39G",
   "language": "python",
   "name": "python3"
  },
  "language_info": {
   "codemirror_mode": {
    "name": "ipython",
    "version": 3
   },
   "file_extension": ".py",
   "mimetype": "text/x-python",
   "name": "python",
   "nbconvert_exporter": "python",
   "pygments_lexer": "ipython3",
   "version": "3.11.5"
  }
 },
 "nbformat": 4,
 "nbformat_minor": 2
}
