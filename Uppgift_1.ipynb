{
 "cells": [
  {
   "cell_type": "code",
   "execution_count": 1,
   "metadata": {},
   "outputs": [],
   "source": [
    "import pandas as pd\n",
    "import hashlib\n",
    "\n",
    "\n",
    "def anonymize_by_sha256(data):\n",
    "    return hashlib.sha256(data.encode()).hexdigest()\n",
    "\n",
    "\n",
    "df_hungarian_events = pd.read_csv(\"Data/athlete_events.csv\")\n",
    "df_hungarian_events = df_hungarian_events.loc[df_hungarian_events[\"NOC\"] == \"HUN\"]\n",
    "df_hungarian_events[\"Name\"] = df_hungarian_events[\"Name\"].apply(anonymize_by_sha256)"
   ]
  },
  {
   "cell_type": "markdown",
   "metadata": {},
   "source": [
    "#### Anonymizing by using SHA-256"
   ]
  },
  {
   "cell_type": "code",
   "execution_count": 2,
   "metadata": {},
   "outputs": [
    {
     "data": {
      "text/html": [
       "<div>\n",
       "<style scoped>\n",
       "    .dataframe tbody tr th:only-of-type {\n",
       "        vertical-align: middle;\n",
       "    }\n",
       "\n",
       "    .dataframe tbody tr th {\n",
       "        vertical-align: top;\n",
       "    }\n",
       "\n",
       "    .dataframe thead th {\n",
       "        text-align: right;\n",
       "    }\n",
       "</style>\n",
       "<table border=\"1\" class=\"dataframe\">\n",
       "  <thead>\n",
       "    <tr style=\"text-align: right;\">\n",
       "      <th></th>\n",
       "      <th>ID</th>\n",
       "      <th>Name</th>\n",
       "      <th>Sex</th>\n",
       "      <th>Age</th>\n",
       "      <th>Height</th>\n",
       "      <th>Weight</th>\n",
       "      <th>Team</th>\n",
       "      <th>NOC</th>\n",
       "      <th>Games</th>\n",
       "      <th>Year</th>\n",
       "      <th>Season</th>\n",
       "      <th>City</th>\n",
       "      <th>Sport</th>\n",
       "      <th>Event</th>\n",
       "      <th>Medal</th>\n",
       "    </tr>\n",
       "  </thead>\n",
       "  <tbody>\n",
       "    <tr>\n",
       "      <th>208</th>\n",
       "      <td>99</td>\n",
       "      <td>3d783a420a34bbe55508bbd5f6eaf42e2a5c8804a13ac6...</td>\n",
       "      <td>M</td>\n",
       "      <td>30.0</td>\n",
       "      <td>181.0</td>\n",
       "      <td>79.0</td>\n",
       "      <td>Hungary</td>\n",
       "      <td>HUN</td>\n",
       "      <td>1992 Summer</td>\n",
       "      <td>1992</td>\n",
       "      <td>Summer</td>\n",
       "      <td>Barcelona</td>\n",
       "      <td>Fencing</td>\n",
       "      <td>Fencing Men's Sabre, Team</td>\n",
       "      <td>Silver</td>\n",
       "    </tr>\n",
       "    <tr>\n",
       "      <th>209</th>\n",
       "      <td>100</td>\n",
       "      <td>ed7fb6924e1b785bfd0d7d8f53af169ad6488abb1505b7...</td>\n",
       "      <td>M</td>\n",
       "      <td>22.0</td>\n",
       "      <td>NaN</td>\n",
       "      <td>NaN</td>\n",
       "      <td>Hungary</td>\n",
       "      <td>HUN</td>\n",
       "      <td>1936 Summer</td>\n",
       "      <td>1936</td>\n",
       "      <td>Summer</td>\n",
       "      <td>Berlin</td>\n",
       "      <td>Swimming</td>\n",
       "      <td>Swimming Men's 100 metres Freestyle</td>\n",
       "      <td>NaN</td>\n",
       "    </tr>\n",
       "    <tr>\n",
       "      <th>210</th>\n",
       "      <td>100</td>\n",
       "      <td>ed7fb6924e1b785bfd0d7d8f53af169ad6488abb1505b7...</td>\n",
       "      <td>M</td>\n",
       "      <td>22.0</td>\n",
       "      <td>NaN</td>\n",
       "      <td>NaN</td>\n",
       "      <td>Hungary</td>\n",
       "      <td>HUN</td>\n",
       "      <td>1936 Summer</td>\n",
       "      <td>1936</td>\n",
       "      <td>Summer</td>\n",
       "      <td>Berlin</td>\n",
       "      <td>Swimming</td>\n",
       "      <td>Swimming Men's 4 x 200 metres Freestyle Relay</td>\n",
       "      <td>Bronze</td>\n",
       "    </tr>\n",
       "    <tr>\n",
       "      <th>884</th>\n",
       "      <td>507</td>\n",
       "      <td>557f18d348e2fb24e10d9cc87fb47162eb705d53ae01fe...</td>\n",
       "      <td>M</td>\n",
       "      <td>21.0</td>\n",
       "      <td>192.0</td>\n",
       "      <td>88.0</td>\n",
       "      <td>Hungary</td>\n",
       "      <td>HUN</td>\n",
       "      <td>1988 Summer</td>\n",
       "      <td>1988</td>\n",
       "      <td>Summer</td>\n",
       "      <td>Seoul</td>\n",
       "      <td>Canoeing</td>\n",
       "      <td>Canoeing Men's Kayak Doubles, 500 metres</td>\n",
       "      <td>Bronze</td>\n",
       "    </tr>\n",
       "    <tr>\n",
       "      <th>885</th>\n",
       "      <td>507</td>\n",
       "      <td>557f18d348e2fb24e10d9cc87fb47162eb705d53ae01fe...</td>\n",
       "      <td>M</td>\n",
       "      <td>21.0</td>\n",
       "      <td>192.0</td>\n",
       "      <td>88.0</td>\n",
       "      <td>Hungary</td>\n",
       "      <td>HUN</td>\n",
       "      <td>1988 Summer</td>\n",
       "      <td>1988</td>\n",
       "      <td>Summer</td>\n",
       "      <td>Seoul</td>\n",
       "      <td>Canoeing</td>\n",
       "      <td>Canoeing Men's Kayak Fours, 1,000 metres</td>\n",
       "      <td>Gold</td>\n",
       "    </tr>\n",
       "  </tbody>\n",
       "</table>\n",
       "</div>"
      ],
      "text/plain": [
       "      ID                                               Name Sex   Age  Height  \\\n",
       "208   99  3d783a420a34bbe55508bbd5f6eaf42e2a5c8804a13ac6...   M  30.0   181.0   \n",
       "209  100  ed7fb6924e1b785bfd0d7d8f53af169ad6488abb1505b7...   M  22.0     NaN   \n",
       "210  100  ed7fb6924e1b785bfd0d7d8f53af169ad6488abb1505b7...   M  22.0     NaN   \n",
       "884  507  557f18d348e2fb24e10d9cc87fb47162eb705d53ae01fe...   M  21.0   192.0   \n",
       "885  507  557f18d348e2fb24e10d9cc87fb47162eb705d53ae01fe...   M  21.0   192.0   \n",
       "\n",
       "     Weight     Team  NOC        Games  Year  Season       City     Sport  \\\n",
       "208    79.0  Hungary  HUN  1992 Summer  1992  Summer  Barcelona   Fencing   \n",
       "209     NaN  Hungary  HUN  1936 Summer  1936  Summer     Berlin  Swimming   \n",
       "210     NaN  Hungary  HUN  1936 Summer  1936  Summer     Berlin  Swimming   \n",
       "884    88.0  Hungary  HUN  1988 Summer  1988  Summer      Seoul  Canoeing   \n",
       "885    88.0  Hungary  HUN  1988 Summer  1988  Summer      Seoul  Canoeing   \n",
       "\n",
       "                                             Event   Medal  \n",
       "208                      Fencing Men's Sabre, Team  Silver  \n",
       "209            Swimming Men's 100 metres Freestyle     NaN  \n",
       "210  Swimming Men's 4 x 200 metres Freestyle Relay  Bronze  \n",
       "884       Canoeing Men's Kayak Doubles, 500 metres  Bronze  \n",
       "885       Canoeing Men's Kayak Fours, 1,000 metres    Gold  "
      ]
     },
     "execution_count": 2,
     "metadata": {},
     "output_type": "execute_result"
    }
   ],
   "source": [
    "df_hungarian_events.head()"
   ]
  },
  {
   "cell_type": "markdown",
   "metadata": {},
   "source": [
    "### 1a. Vilka sporter har Ungern tagit flest medaljer i?"
   ]
  },
  {
   "cell_type": "code",
   "execution_count": 3,
   "metadata": {},
   "outputs": [
    {
     "name": "stdout",
     "output_type": "stream",
     "text": [
      "Ungern har tagit flest medaljer i Fencing.\n"
     ]
    },
    {
     "data": {
      "text/plain": [
       "Sport\n",
       "Fencing              236\n",
       "Water Polo           172\n",
       "Canoeing             158\n",
       "Gymnastics           111\n",
       "Swimming              94\n",
       "Football              79\n",
       "Wrestling             55\n",
       "Athletics             52\n",
       "Handball              45\n",
       "Modern Pentathlon     38\n",
       "Boxing                20\n",
       "Weightlifting         20\n",
       "Shooting              17\n",
       "Figure Skating        12\n",
       "Judo                   9\n",
       "Rowing                 8\n",
       "Art Competitions       5\n",
       "Sailing                2\n",
       "Tennis                 1\n",
       "Equestrianism          1\n",
       "Name: Medal, dtype: int64"
      ]
     },
     "execution_count": 3,
     "metadata": {},
     "output_type": "execute_result"
    }
   ],
   "source": [
    "medals_per_sport = (\n",
    "    df_hungarian_events[df_hungarian_events[\"Medal\"].notna()]\n",
    "    .groupby(\"Sport\")[\"Medal\"]\n",
    "    .count()\n",
    "    .sort_values(ascending=False)\n",
    ")\n",
    "print(f\"Ungern har tagit flest medaljer i {medals_per_sport.idxmax()}.\")\n",
    "medals_per_sport"
   ]
  },
  {
   "cell_type": "markdown",
   "metadata": {},
   "source": [
    "### 1b. Hur många medaljer per OS tog Ungern varje enskilt år?"
   ]
  },
  {
   "cell_type": "code",
   "execution_count": 4,
   "metadata": {},
   "outputs": [
    {
     "data": {
      "text/plain": [
       "Year  Season\n",
       "1952  Summer    102\n",
       "1968  Summer     81\n",
       "1972  Summer     81\n",
       "1960  Summer     66\n",
       "1956  Summer     64\n",
       "1948  Summer     62\n",
       "1980  Summer     61\n",
       "1964  Summer     56\n",
       "1976  Summer     55\n",
       "2000  Summer     53\n",
       "1992  Summer     45\n",
       "1988  Summer     44\n",
       "1996  Summer     43\n",
       "1936  Summer     41\n",
       "2004  Summer     40\n",
       "1932  Summer     33\n",
       "1912  Summer     30\n",
       "2008  Summer     27\n",
       "2012  Summer     26\n",
       "2016  Summer     22\n",
       "1924  Summer     22\n",
       "1928  Summer     21\n",
       "1908  Summer     20\n",
       "1906  Summer     13\n",
       "1896  Summer      6\n",
       "1900  Summer      5\n",
       "1904  Summer      4\n",
       "1956  Winter      2\n",
       "1952  Winter      2\n",
       "1948  Winter      2\n",
       "1980  Winter      2\n",
       "1936  Winter      2\n",
       "1932  Winter      2\n",
       "dtype: int64"
      ]
     },
     "execution_count": 4,
     "metadata": {},
     "output_type": "execute_result"
    }
   ],
   "source": [
    "sorted_medals = (\n",
    "    df_hungarian_events[df_hungarian_events[\"Medal\"].notna()]\n",
    "    .groupby([\"Year\", \"Season\"])\n",
    "    .size()\n",
    "    .sort_values(ascending=False)\n",
    ")\n",
    "sorted_medals"
   ]
  }
 ],
 "metadata": {
  "kernelspec": {
   "display_name": "ProjectOS-Ungern-sAWM3we6",
   "language": "python",
   "name": "python3"
  },
  "language_info": {
   "codemirror_mode": {
    "name": "ipython",
    "version": 3
   },
   "file_extension": ".py",
   "mimetype": "text/x-python",
   "name": "python",
   "nbconvert_exporter": "python",
   "pygments_lexer": "ipython3",
   "version": "3.11.6"
  }
 },
 "nbformat": 4,
 "nbformat_minor": 2
}
