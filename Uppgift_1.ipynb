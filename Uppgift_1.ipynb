{
 "cells": [
  {
   "cell_type": "code",
   "execution_count": 3,
   "metadata": {},
   "outputs": [],
   "source": [
    "import pandas as pd\n",
    "import hashlib\n",
    "\n",
    "\n",
    "def anonymize_by_sha256(data):\n",
    "    return hashlib.sha256(data.encode()).hexdigest()\n",
    "\n",
    "\n",
    "df_hungarian_events = pd.read_csv(\"Data/athlete_events.csv\")\n",
    "df_hungarian_events = df_hungarian_events.loc[df_hungarian_events[\"NOC\"] == \"HUN\"]\n",
    "df_hungarian_events[\"Name\"] = df_hungarian_events[\"Name\"].apply(anonymize_by_sha256)"
   ]
  },
  {
   "cell_type": "markdown",
   "metadata": {},
   "source": [
    "#### Anonymizing by using SHA-256"
   ]
  },
  {
   "cell_type": "code",
   "execution_count": 4,
   "metadata": {},
   "outputs": [
    {
     "data": {
      "text/plain": [
       "208    3d783a420a34bbe55508bbd5f6eaf42e2a5c8804a13ac6...\n",
       "209    ed7fb6924e1b785bfd0d7d8f53af169ad6488abb1505b7...\n",
       "210    ed7fb6924e1b785bfd0d7d8f53af169ad6488abb1505b7...\n",
       "884    557f18d348e2fb24e10d9cc87fb47162eb705d53ae01fe...\n",
       "885    557f18d348e2fb24e10d9cc87fb47162eb705d53ae01fe...\n",
       "Name: Name, dtype: object"
      ]
     },
     "execution_count": 4,
     "metadata": {},
     "output_type": "execute_result"
    }
   ],
   "source": [
    "df_hungarian_events.head()"
   ]
  }
 ],
 "metadata": {
  "kernelspec": {
   "display_name": "ProjectOS-Ungern-sAWM3we6",
   "language": "python",
   "name": "python3"
  },
  "language_info": {
   "codemirror_mode": {
    "name": "ipython",
    "version": 3
   },
   "file_extension": ".py",
   "mimetype": "text/x-python",
   "name": "python",
   "nbconvert_exporter": "python",
   "pygments_lexer": "ipython3",
   "version": "3.11.6"
  }
 },
 "nbformat": 4,
 "nbformat_minor": 2
}
